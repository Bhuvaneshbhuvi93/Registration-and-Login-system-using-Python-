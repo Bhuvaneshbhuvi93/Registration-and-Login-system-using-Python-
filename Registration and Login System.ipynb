{
 "cells": [
  {
   "cell_type": "markdown",
   "id": "b2782265",
   "metadata": {},
   "source": [
    "# Assignment 1"
   ]
  },
  {
   "cell_type": "markdown",
   "id": "8320535d",
   "metadata": {},
   "source": [
    "## Registration and Login system using Python, file handling"
   ]
  },
  {
   "cell_type": "markdown",
   "id": "b39222ea",
   "metadata": {},
   "source": [
    "### User Registration"
   ]
  },
  {
   "cell_type": "code",
   "execution_count": 3,
   "id": "4ca99b08",
   "metadata": {},
   "outputs": [],
   "source": [
    "import re"
   ]
  },
  {
   "cell_type": "code",
   "execution_count": 4,
   "id": "5ce9ddcc",
   "metadata": {},
   "outputs": [],
   "source": [
    "def userRegistration():\n",
    "        username=input('Enter your Username:' )\n",
    "\n",
    "        uservalidate= r\"\\b[A-Za-z0-9._%+-]+@[A-Za-z0-9.-]+\\.[A-Z|a-z]{2,}\\b\"\n",
    "        \n",
    "      \n",
    "\n",
    "        if (re.fullmatch(uservalidate,username)):\n",
    "                password=input(\"Enter your password:\")\n",
    "                passvalidate=r\"^(?=.*[\\d])(?=.*[A-Z])(?=.*[a-z])(?=.*[!@#$])[\\w\\d!@#$]{6,12}$\"\n",
    "                if(re.fullmatch(passvalidate,password)):\n",
    "\n",
    "                    db = open('registration_data.txt','a')\n",
    "                    db.write(str(username+\" \"+password+'\\n'))\n",
    "                    db.close()\n",
    "                    print('Hurray Registration Successsful!!')\n",
    "\n",
    "\n",
    "                else:\n",
    "                    print(\"Password legth should be 6 to 12 characters:\\nMust have minimum of\\nOne special character,\\nOne digit,\\nOne uppercase,\\nOne lowercase character\")\n",
    "                    userRegistration()\n",
    "\n",
    "\n",
    "        else:\n",
    "            print(\"Enter username correctly\")\n",
    "            userRegistration()"
   ]
  },
  {
   "cell_type": "code",
   "execution_count": 5,
   "id": "18d30ab7",
   "metadata": {},
   "outputs": [
    {
     "name": "stdout",
     "output_type": "stream",
     "text": [
      "Enter your Username:abc@abc.com\n",
      "Enter your password:Aa1!ad\n",
      "Hurray Registration Successsful!!\n"
     ]
    }
   ],
   "source": [
    "userRegistration()"
   ]
  },
  {
   "cell_type": "markdown",
   "id": "abeb220b",
   "metadata": {},
   "source": [
    "### User Login"
   ]
  },
  {
   "cell_type": "code",
   "execution_count": 8,
   "id": "e400150d",
   "metadata": {},
   "outputs": [],
   "source": [
    "def login():\n",
    "    \n",
    "        reg_name=[]\n",
    "        reg_pass=[]\n",
    "        with open('registration_data.txt','r') as file:\n",
    "            \n",
    "            for i in file:\n",
    "                a,b= i.split(\" \")\n",
    "                b=b.strip()\n",
    "                reg_name.append(a)\n",
    "                reg_pass.append(b)\n",
    "            data=dict(zip(reg_name,reg_pass))    \n",
    "        \n",
    "        \n",
    "        \n",
    "        username=input('Enter username:')\n",
    "        if username in data:\n",
    "            password=input('Enter password:')\n",
    "            \n",
    "            if password == data[username]:\n",
    "                print(\"login Sucessful\")\n",
    "            else:\n",
    "                print(\"password Incorrect\")\n",
    "                login()\n",
    "        else:\n",
    "            print(\"Username do not exist,Kindly register\")"
   ]
  },
  {
   "cell_type": "code",
   "execution_count": 9,
   "id": "599127b5",
   "metadata": {},
   "outputs": [
    {
     "name": "stdout",
     "output_type": "stream",
     "text": [
      "Enter username:abc@abc.com\n",
      "Enter password:Aa1!ad\n",
      "login Sucessful\n"
     ]
    }
   ],
   "source": [
    "login()"
   ]
  },
  {
   "cell_type": "markdown",
   "id": "a3bf39e3",
   "metadata": {},
   "source": [
    "### Forget password"
   ]
  },
  {
   "cell_type": "code",
   "execution_count": 6,
   "id": "3b88b161",
   "metadata": {},
   "outputs": [],
   "source": [
    "def forget_password():\n",
    "    \n",
    "        reg_name=[]\n",
    "        reg_pass=[]\n",
    "        with open('registration_data.txt','r') as file:\n",
    "\n",
    "                for i in file:\n",
    "                    a,b= i.split(\" \")\n",
    "                    b=b.strip()\n",
    "                    reg_name.append(a)\n",
    "                    reg_pass.append(b)\n",
    "                data=dict(zip(reg_name,reg_pass)) \n",
    "\n",
    "        username=input(\"Enter user name\")\n",
    "        if username in data:\n",
    "            print(\"Hello \"+username, \"Your_Password \"+data[username])\n",
    "        else:\n",
    "            print(\"Username not found,\\nKindly Register!!\")"
   ]
  },
  {
   "cell_type": "code",
   "execution_count": 7,
   "id": "e5c05da6",
   "metadata": {},
   "outputs": [
    {
     "name": "stdout",
     "output_type": "stream",
     "text": [
      "Enter user nameabc@abc.com\n",
      "Hello abc@abc.com Your_Password Aa1!ad\n"
     ]
    }
   ],
   "source": [
    "forget_password()"
   ]
  },
  {
   "cell_type": "code",
   "execution_count": null,
   "id": "a3bd7f10",
   "metadata": {},
   "outputs": [],
   "source": [
    "def option():\n",
    "    User_option=int(input())\n",
    "    \n",
    "    if User_option == 1:\n",
    "        userRegistration()\n",
    "    elif User_option == 2:\n",
    "        login()\n",
    "    elif User_option == 3:\n",
    "        forget_password()\n",
    "        \n",
    "    else:\n",
    "        print(\"Enter correct option:\\nOption1:Registration\\nOption2:Login\\nOption3:Forget Password\")"
   ]
  }
 ],
 "metadata": {
  "kernelspec": {
   "display_name": "Python 3 (ipykernel)",
   "language": "python",
   "name": "python3"
  },
  "language_info": {
   "codemirror_mode": {
    "name": "ipython",
    "version": 3
   },
   "file_extension": ".py",
   "mimetype": "text/x-python",
   "name": "python",
   "nbconvert_exporter": "python",
   "pygments_lexer": "ipython3",
   "version": "3.9.13"
  }
 },
 "nbformat": 4,
 "nbformat_minor": 5
}
